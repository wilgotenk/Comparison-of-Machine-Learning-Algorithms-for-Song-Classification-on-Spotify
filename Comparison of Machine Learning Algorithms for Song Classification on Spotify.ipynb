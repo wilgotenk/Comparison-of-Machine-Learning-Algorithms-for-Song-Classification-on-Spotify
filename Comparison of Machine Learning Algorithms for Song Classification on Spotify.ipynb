{
  "nbformat": 4,
  "nbformat_minor": 0,
  "metadata": {
    "colab": {
      "provenance": []
    },
    "kernelspec": {
      "name": "python3",
      "display_name": "Python 3"
    },
    "language_info": {
      "name": "python"
    }
  },
  "cells": [
    {
      "cell_type": "code",
      "source": [
        "from google.colab import drive\n",
        "drive.mount('/content/drive')"
      ],
      "metadata": {
        "colab": {
          "base_uri": "https://localhost:8080/"
        },
        "id": "7QqLIJQB3noK",
        "outputId": "5cb42f91-735f-4506-e829-075f88369d9b"
      },
      "execution_count": null,
      "outputs": [
        {
          "output_type": "stream",
          "name": "stdout",
          "text": [
            "Mounted at /content/drive\n"
          ]
        }
      ]
    },
    {
      "cell_type": "code",
      "execution_count": null,
      "metadata": {
        "colab": {
          "base_uri": "https://localhost:8080/"
        },
        "id": "YqdjKe283VSv",
        "outputId": "146f7bc8-e880-4479-c6bb-de36cf0d8f11"
      },
      "outputs": [
        {
          "output_type": "stream",
          "name": "stdout",
          "text": [
            "Collecting pyspark\n",
            "  Downloading pyspark-3.5.0.tar.gz (316.9 MB)\n",
            "\u001b[2K     \u001b[90m━━━━━━━━━━━━━━━━━━━━━━━━━━━━━━━━━━━━━━━━\u001b[0m \u001b[32m316.9/316.9 MB\u001b[0m \u001b[31m4.5 MB/s\u001b[0m eta \u001b[36m0:00:00\u001b[0m\n",
            "\u001b[?25h  Preparing metadata (setup.py) ... \u001b[?25l\u001b[?25hdone\n",
            "Requirement already satisfied: py4j==0.10.9.7 in /usr/local/lib/python3.10/dist-packages (from pyspark) (0.10.9.7)\n",
            "Building wheels for collected packages: pyspark\n",
            "  Building wheel for pyspark (setup.py) ... \u001b[?25l\u001b[?25hdone\n",
            "  Created wheel for pyspark: filename=pyspark-3.5.0-py2.py3-none-any.whl size=317425345 sha256=8fc619af85d3b8234d7798c60602bd308ad7c329fac4d5a60c50382300ed992f\n",
            "  Stored in directory: /root/.cache/pip/wheels/41/4e/10/c2cf2467f71c678cfc8a6b9ac9241e5e44a01940da8fbb17fc\n",
            "Successfully built pyspark\n",
            "Installing collected packages: pyspark\n",
            "Successfully installed pyspark-3.5.0\n"
          ]
        }
      ],
      "source": [
        "pip install pyspark"
      ]
    },
    {
      "cell_type": "markdown",
      "source": [
        "# **Pre-processing**"
      ],
      "metadata": {
        "id": "AZpAUVBJ9wnJ"
      }
    },
    {
      "cell_type": "code",
      "source": [
        "from pyspark.sql import SparkSession\n",
        "from pyspark.sql.functions import col\n",
        "import matplotlib.pyplot as plt\n",
        "\n",
        "spark = SparkSession.builder.appName('spotify').getOrCreate()\n",
        "df = spark.read.csv('/content/drive/MyDrive/Materi Kuliah/Semester 5/Big Data Lanjut/FP/spotify_songs.csv', header = True, inferSchema = True)\n",
        "df.printSchema()"
      ],
      "metadata": {
        "colab": {
          "base_uri": "https://localhost:8080/"
        },
        "id": "3IEL8z8T4DWO",
        "outputId": "611461f4-92f1-4743-e0d1-d9fcd2d94fb3"
      },
      "execution_count": null,
      "outputs": [
        {
          "output_type": "stream",
          "name": "stdout",
          "text": [
            "root\n",
            " |-- track_id: string (nullable = true)\n",
            " |-- track_name: string (nullable = true)\n",
            " |-- track_artist: string (nullable = true)\n",
            " |-- track_popularity: integer (nullable = true)\n",
            " |-- track_album_id: string (nullable = true)\n",
            " |-- track_album_name: string (nullable = true)\n",
            " |-- track_album_release_date: string (nullable = true)\n",
            " |-- playlist_name: string (nullable = true)\n",
            " |-- playlist_id: string (nullable = true)\n",
            " |-- playlist_genre: string (nullable = true)\n",
            " |-- playlist_subgenre: string (nullable = true)\n",
            " |-- danceability: string (nullable = true)\n",
            " |-- energy: string (nullable = true)\n",
            " |-- key: string (nullable = true)\n",
            " |-- loudness: string (nullable = true)\n",
            " |-- mode: string (nullable = true)\n",
            " |-- speechiness: double (nullable = true)\n",
            " |-- acousticness: double (nullable = true)\n",
            " |-- instrumentalness: double (nullable = true)\n",
            " |-- liveness: double (nullable = true)\n",
            " |-- valence: double (nullable = true)\n",
            " |-- tempo: double (nullable = true)\n",
            " |-- duration_ms: double (nullable = true)\n",
            "\n"
          ]
        }
      ]
    },
    {
      "cell_type": "code",
      "source": [
        "import pandas as pd\n",
        "pd.DataFrame(df.take(5), columns=df.columns).transpose()"
      ],
      "metadata": {
        "colab": {
          "base_uri": "https://localhost:8080/",
          "height": 825
        },
        "id": "oXcFZ_zR4vQt",
        "outputId": "c8293196-d829-4d28-bd43-af6843fc8d79"
      },
      "execution_count": null,
      "outputs": [
        {
          "output_type": "execute_result",
          "data": {
            "text/plain": [
              "                                                                          0  \\\n",
              "track_id                                             6f807x0ima9a1j3VPbc7VN   \n",
              "track_name                I Don't Care (with Justin Bieber) - Loud Luxur...   \n",
              "track_artist                                                     Ed Sheeran   \n",
              "track_popularity                                                         66   \n",
              "track_album_id                                       2oCs0DGTsRO98Gh5ZSl2Cx   \n",
              "track_album_name          I Don't Care (with Justin Bieber) [Loud Luxury...   \n",
              "track_album_release_date                                         2019-06-14   \n",
              "playlist_name                                                     Pop Remix   \n",
              "playlist_id                                          37i9dQZF1DXcZDD7cfEKhW   \n",
              "playlist_genre                                                          pop   \n",
              "playlist_subgenre                                                 dance pop   \n",
              "danceability                                                          0.748   \n",
              "energy                                                                0.916   \n",
              "key                                                                       6   \n",
              "loudness                                                             -2.634   \n",
              "mode                                                                      1   \n",
              "speechiness                                                          0.0583   \n",
              "acousticness                                                          0.102   \n",
              "instrumentalness                                                        0.0   \n",
              "liveness                                                             0.0653   \n",
              "valence                                                               0.518   \n",
              "tempo                                                               122.036   \n",
              "duration_ms                                                        194754.0   \n",
              "\n",
              "                                                        1  \\\n",
              "track_id                           0r7CVbZTWZgbTCYdfa2P31   \n",
              "track_name                Memories - Dillon Francis Remix   \n",
              "track_artist                                     Maroon 5   \n",
              "track_popularity                                       67   \n",
              "track_album_id                     63rPSO264uRjW1X5E6cWv6   \n",
              "track_album_name          Memories (Dillon Francis Remix)   \n",
              "track_album_release_date                       2019-12-13   \n",
              "playlist_name                                   Pop Remix   \n",
              "playlist_id                        37i9dQZF1DXcZDD7cfEKhW   \n",
              "playlist_genre                                        pop   \n",
              "playlist_subgenre                               dance pop   \n",
              "danceability                                        0.726   \n",
              "energy                                              0.815   \n",
              "key                                                    11   \n",
              "loudness                                           -4.969   \n",
              "mode                                                    1   \n",
              "speechiness                                        0.0373   \n",
              "acousticness                                       0.0724   \n",
              "instrumentalness                                  0.00421   \n",
              "liveness                                            0.357   \n",
              "valence                                             0.693   \n",
              "tempo                                              99.972   \n",
              "duration_ms                                      162600.0   \n",
              "\n",
              "                                                        2  \\\n",
              "track_id                           1z1Hg7Vb0AhHDiEmnDE79l   \n",
              "track_name                All the Time - Don Diablo Remix   \n",
              "track_artist                                 Zara Larsson   \n",
              "track_popularity                                       70   \n",
              "track_album_id                     1HoSmj2eLcsrR0vE9gThr4   \n",
              "track_album_name          All the Time (Don Diablo Remix)   \n",
              "track_album_release_date                       2019-07-05   \n",
              "playlist_name                                   Pop Remix   \n",
              "playlist_id                        37i9dQZF1DXcZDD7cfEKhW   \n",
              "playlist_genre                                        pop   \n",
              "playlist_subgenre                               dance pop   \n",
              "danceability                                        0.675   \n",
              "energy                                              0.931   \n",
              "key                                                     1   \n",
              "loudness                                           -3.432   \n",
              "mode                                                    0   \n",
              "speechiness                                        0.0742   \n",
              "acousticness                                       0.0794   \n",
              "instrumentalness                                 0.000023   \n",
              "liveness                                             0.11   \n",
              "valence                                             0.613   \n",
              "tempo                                             124.008   \n",
              "duration_ms                                      176616.0   \n",
              "\n",
              "                                                          3  \\\n",
              "track_id                             75FpbthrwQmzHlBJLuGdC7   \n",
              "track_name                Call You Mine - Keanu Silva Remix   \n",
              "track_artist                               The Chainsmokers   \n",
              "track_popularity                                         60   \n",
              "track_album_id                       1nqYsOef1yKKuGOVchbsk6   \n",
              "track_album_name                Call You Mine - The Remixes   \n",
              "track_album_release_date                         2019-07-19   \n",
              "playlist_name                                     Pop Remix   \n",
              "playlist_id                          37i9dQZF1DXcZDD7cfEKhW   \n",
              "playlist_genre                                          pop   \n",
              "playlist_subgenre                                 dance pop   \n",
              "danceability                                          0.718   \n",
              "energy                                                 0.93   \n",
              "key                                                       7   \n",
              "loudness                                             -3.778   \n",
              "mode                                                      1   \n",
              "speechiness                                           0.102   \n",
              "acousticness                                         0.0287   \n",
              "instrumentalness                                   0.000009   \n",
              "liveness                                              0.204   \n",
              "valence                                               0.277   \n",
              "tempo                                               121.956   \n",
              "duration_ms                                        169093.0   \n",
              "\n",
              "                                                                4  \n",
              "track_id                                   1e8PAfcKUYoKkxPhrHqw4x  \n",
              "track_name                Someone You Loved - Future Humans Remix  \n",
              "track_artist                                        Lewis Capaldi  \n",
              "track_popularity                                               69  \n",
              "track_album_id                             7m7vv9wlQ4i0LFuJiE2zsQ  \n",
              "track_album_name          Someone You Loved (Future Humans Remix)  \n",
              "track_album_release_date                               2019-03-05  \n",
              "playlist_name                                           Pop Remix  \n",
              "playlist_id                                37i9dQZF1DXcZDD7cfEKhW  \n",
              "playlist_genre                                                pop  \n",
              "playlist_subgenre                                       dance pop  \n",
              "danceability                                                 0.65  \n",
              "energy                                                      0.833  \n",
              "key                                                             1  \n",
              "loudness                                                   -4.672  \n",
              "mode                                                            1  \n",
              "speechiness                                                0.0359  \n",
              "acousticness                                               0.0803  \n",
              "instrumentalness                                              0.0  \n",
              "liveness                                                   0.0833  \n",
              "valence                                                     0.725  \n",
              "tempo                                                     123.976  \n",
              "duration_ms                                              189052.0  "
            ],
            "text/html": [
              "\n",
              "  <div id=\"df-c2459bfc-4f3f-484e-922b-3a1a9045e737\" class=\"colab-df-container\">\n",
              "    <div>\n",
              "<style scoped>\n",
              "    .dataframe tbody tr th:only-of-type {\n",
              "        vertical-align: middle;\n",
              "    }\n",
              "\n",
              "    .dataframe tbody tr th {\n",
              "        vertical-align: top;\n",
              "    }\n",
              "\n",
              "    .dataframe thead th {\n",
              "        text-align: right;\n",
              "    }\n",
              "</style>\n",
              "<table border=\"1\" class=\"dataframe\">\n",
              "  <thead>\n",
              "    <tr style=\"text-align: right;\">\n",
              "      <th></th>\n",
              "      <th>0</th>\n",
              "      <th>1</th>\n",
              "      <th>2</th>\n",
              "      <th>3</th>\n",
              "      <th>4</th>\n",
              "    </tr>\n",
              "  </thead>\n",
              "  <tbody>\n",
              "    <tr>\n",
              "      <th>track_id</th>\n",
              "      <td>6f807x0ima9a1j3VPbc7VN</td>\n",
              "      <td>0r7CVbZTWZgbTCYdfa2P31</td>\n",
              "      <td>1z1Hg7Vb0AhHDiEmnDE79l</td>\n",
              "      <td>75FpbthrwQmzHlBJLuGdC7</td>\n",
              "      <td>1e8PAfcKUYoKkxPhrHqw4x</td>\n",
              "    </tr>\n",
              "    <tr>\n",
              "      <th>track_name</th>\n",
              "      <td>I Don't Care (with Justin Bieber) - Loud Luxur...</td>\n",
              "      <td>Memories - Dillon Francis Remix</td>\n",
              "      <td>All the Time - Don Diablo Remix</td>\n",
              "      <td>Call You Mine - Keanu Silva Remix</td>\n",
              "      <td>Someone You Loved - Future Humans Remix</td>\n",
              "    </tr>\n",
              "    <tr>\n",
              "      <th>track_artist</th>\n",
              "      <td>Ed Sheeran</td>\n",
              "      <td>Maroon 5</td>\n",
              "      <td>Zara Larsson</td>\n",
              "      <td>The Chainsmokers</td>\n",
              "      <td>Lewis Capaldi</td>\n",
              "    </tr>\n",
              "    <tr>\n",
              "      <th>track_popularity</th>\n",
              "      <td>66</td>\n",
              "      <td>67</td>\n",
              "      <td>70</td>\n",
              "      <td>60</td>\n",
              "      <td>69</td>\n",
              "    </tr>\n",
              "    <tr>\n",
              "      <th>track_album_id</th>\n",
              "      <td>2oCs0DGTsRO98Gh5ZSl2Cx</td>\n",
              "      <td>63rPSO264uRjW1X5E6cWv6</td>\n",
              "      <td>1HoSmj2eLcsrR0vE9gThr4</td>\n",
              "      <td>1nqYsOef1yKKuGOVchbsk6</td>\n",
              "      <td>7m7vv9wlQ4i0LFuJiE2zsQ</td>\n",
              "    </tr>\n",
              "    <tr>\n",
              "      <th>track_album_name</th>\n",
              "      <td>I Don't Care (with Justin Bieber) [Loud Luxury...</td>\n",
              "      <td>Memories (Dillon Francis Remix)</td>\n",
              "      <td>All the Time (Don Diablo Remix)</td>\n",
              "      <td>Call You Mine - The Remixes</td>\n",
              "      <td>Someone You Loved (Future Humans Remix)</td>\n",
              "    </tr>\n",
              "    <tr>\n",
              "      <th>track_album_release_date</th>\n",
              "      <td>2019-06-14</td>\n",
              "      <td>2019-12-13</td>\n",
              "      <td>2019-07-05</td>\n",
              "      <td>2019-07-19</td>\n",
              "      <td>2019-03-05</td>\n",
              "    </tr>\n",
              "    <tr>\n",
              "      <th>playlist_name</th>\n",
              "      <td>Pop Remix</td>\n",
              "      <td>Pop Remix</td>\n",
              "      <td>Pop Remix</td>\n",
              "      <td>Pop Remix</td>\n",
              "      <td>Pop Remix</td>\n",
              "    </tr>\n",
              "    <tr>\n",
              "      <th>playlist_id</th>\n",
              "      <td>37i9dQZF1DXcZDD7cfEKhW</td>\n",
              "      <td>37i9dQZF1DXcZDD7cfEKhW</td>\n",
              "      <td>37i9dQZF1DXcZDD7cfEKhW</td>\n",
              "      <td>37i9dQZF1DXcZDD7cfEKhW</td>\n",
              "      <td>37i9dQZF1DXcZDD7cfEKhW</td>\n",
              "    </tr>\n",
              "    <tr>\n",
              "      <th>playlist_genre</th>\n",
              "      <td>pop</td>\n",
              "      <td>pop</td>\n",
              "      <td>pop</td>\n",
              "      <td>pop</td>\n",
              "      <td>pop</td>\n",
              "    </tr>\n",
              "    <tr>\n",
              "      <th>playlist_subgenre</th>\n",
              "      <td>dance pop</td>\n",
              "      <td>dance pop</td>\n",
              "      <td>dance pop</td>\n",
              "      <td>dance pop</td>\n",
              "      <td>dance pop</td>\n",
              "    </tr>\n",
              "    <tr>\n",
              "      <th>danceability</th>\n",
              "      <td>0.748</td>\n",
              "      <td>0.726</td>\n",
              "      <td>0.675</td>\n",
              "      <td>0.718</td>\n",
              "      <td>0.65</td>\n",
              "    </tr>\n",
              "    <tr>\n",
              "      <th>energy</th>\n",
              "      <td>0.916</td>\n",
              "      <td>0.815</td>\n",
              "      <td>0.931</td>\n",
              "      <td>0.93</td>\n",
              "      <td>0.833</td>\n",
              "    </tr>\n",
              "    <tr>\n",
              "      <th>key</th>\n",
              "      <td>6</td>\n",
              "      <td>11</td>\n",
              "      <td>1</td>\n",
              "      <td>7</td>\n",
              "      <td>1</td>\n",
              "    </tr>\n",
              "    <tr>\n",
              "      <th>loudness</th>\n",
              "      <td>-2.634</td>\n",
              "      <td>-4.969</td>\n",
              "      <td>-3.432</td>\n",
              "      <td>-3.778</td>\n",
              "      <td>-4.672</td>\n",
              "    </tr>\n",
              "    <tr>\n",
              "      <th>mode</th>\n",
              "      <td>1</td>\n",
              "      <td>1</td>\n",
              "      <td>0</td>\n",
              "      <td>1</td>\n",
              "      <td>1</td>\n",
              "    </tr>\n",
              "    <tr>\n",
              "      <th>speechiness</th>\n",
              "      <td>0.0583</td>\n",
              "      <td>0.0373</td>\n",
              "      <td>0.0742</td>\n",
              "      <td>0.102</td>\n",
              "      <td>0.0359</td>\n",
              "    </tr>\n",
              "    <tr>\n",
              "      <th>acousticness</th>\n",
              "      <td>0.102</td>\n",
              "      <td>0.0724</td>\n",
              "      <td>0.0794</td>\n",
              "      <td>0.0287</td>\n",
              "      <td>0.0803</td>\n",
              "    </tr>\n",
              "    <tr>\n",
              "      <th>instrumentalness</th>\n",
              "      <td>0.0</td>\n",
              "      <td>0.00421</td>\n",
              "      <td>0.000023</td>\n",
              "      <td>0.000009</td>\n",
              "      <td>0.0</td>\n",
              "    </tr>\n",
              "    <tr>\n",
              "      <th>liveness</th>\n",
              "      <td>0.0653</td>\n",
              "      <td>0.357</td>\n",
              "      <td>0.11</td>\n",
              "      <td>0.204</td>\n",
              "      <td>0.0833</td>\n",
              "    </tr>\n",
              "    <tr>\n",
              "      <th>valence</th>\n",
              "      <td>0.518</td>\n",
              "      <td>0.693</td>\n",
              "      <td>0.613</td>\n",
              "      <td>0.277</td>\n",
              "      <td>0.725</td>\n",
              "    </tr>\n",
              "    <tr>\n",
              "      <th>tempo</th>\n",
              "      <td>122.036</td>\n",
              "      <td>99.972</td>\n",
              "      <td>124.008</td>\n",
              "      <td>121.956</td>\n",
              "      <td>123.976</td>\n",
              "    </tr>\n",
              "    <tr>\n",
              "      <th>duration_ms</th>\n",
              "      <td>194754.0</td>\n",
              "      <td>162600.0</td>\n",
              "      <td>176616.0</td>\n",
              "      <td>169093.0</td>\n",
              "      <td>189052.0</td>\n",
              "    </tr>\n",
              "  </tbody>\n",
              "</table>\n",
              "</div>\n",
              "    <div class=\"colab-df-buttons\">\n",
              "\n",
              "  <div class=\"colab-df-container\">\n",
              "    <button class=\"colab-df-convert\" onclick=\"convertToInteractive('df-c2459bfc-4f3f-484e-922b-3a1a9045e737')\"\n",
              "            title=\"Convert this dataframe to an interactive table.\"\n",
              "            style=\"display:none;\">\n",
              "\n",
              "  <svg xmlns=\"http://www.w3.org/2000/svg\" height=\"24px\" viewBox=\"0 -960 960 960\">\n",
              "    <path d=\"M120-120v-720h720v720H120Zm60-500h600v-160H180v160Zm220 220h160v-160H400v160Zm0 220h160v-160H400v160ZM180-400h160v-160H180v160Zm440 0h160v-160H620v160ZM180-180h160v-160H180v160Zm440 0h160v-160H620v160Z\"/>\n",
              "  </svg>\n",
              "    </button>\n",
              "\n",
              "  <style>\n",
              "    .colab-df-container {\n",
              "      display:flex;\n",
              "      gap: 12px;\n",
              "    }\n",
              "\n",
              "    .colab-df-convert {\n",
              "      background-color: #E8F0FE;\n",
              "      border: none;\n",
              "      border-radius: 50%;\n",
              "      cursor: pointer;\n",
              "      display: none;\n",
              "      fill: #1967D2;\n",
              "      height: 32px;\n",
              "      padding: 0 0 0 0;\n",
              "      width: 32px;\n",
              "    }\n",
              "\n",
              "    .colab-df-convert:hover {\n",
              "      background-color: #E2EBFA;\n",
              "      box-shadow: 0px 1px 2px rgba(60, 64, 67, 0.3), 0px 1px 3px 1px rgba(60, 64, 67, 0.15);\n",
              "      fill: #174EA6;\n",
              "    }\n",
              "\n",
              "    .colab-df-buttons div {\n",
              "      margin-bottom: 4px;\n",
              "    }\n",
              "\n",
              "    [theme=dark] .colab-df-convert {\n",
              "      background-color: #3B4455;\n",
              "      fill: #D2E3FC;\n",
              "    }\n",
              "\n",
              "    [theme=dark] .colab-df-convert:hover {\n",
              "      background-color: #434B5C;\n",
              "      box-shadow: 0px 1px 3px 1px rgba(0, 0, 0, 0.15);\n",
              "      filter: drop-shadow(0px 1px 2px rgba(0, 0, 0, 0.3));\n",
              "      fill: #FFFFFF;\n",
              "    }\n",
              "  </style>\n",
              "\n",
              "    <script>\n",
              "      const buttonEl =\n",
              "        document.querySelector('#df-c2459bfc-4f3f-484e-922b-3a1a9045e737 button.colab-df-convert');\n",
              "      buttonEl.style.display =\n",
              "        google.colab.kernel.accessAllowed ? 'block' : 'none';\n",
              "\n",
              "      async function convertToInteractive(key) {\n",
              "        const element = document.querySelector('#df-c2459bfc-4f3f-484e-922b-3a1a9045e737');\n",
              "        const dataTable =\n",
              "          await google.colab.kernel.invokeFunction('convertToInteractive',\n",
              "                                                    [key], {});\n",
              "        if (!dataTable) return;\n",
              "\n",
              "        const docLinkHtml = 'Like what you see? Visit the ' +\n",
              "          '<a target=\"_blank\" href=https://colab.research.google.com/notebooks/data_table.ipynb>data table notebook</a>'\n",
              "          + ' to learn more about interactive tables.';\n",
              "        element.innerHTML = '';\n",
              "        dataTable['output_type'] = 'display_data';\n",
              "        await google.colab.output.renderOutput(dataTable, element);\n",
              "        const docLink = document.createElement('div');\n",
              "        docLink.innerHTML = docLinkHtml;\n",
              "        element.appendChild(docLink);\n",
              "      }\n",
              "    </script>\n",
              "  </div>\n",
              "\n",
              "\n",
              "<div id=\"df-edb9eb8f-6c34-4d72-aacd-447542f31c48\">\n",
              "  <button class=\"colab-df-quickchart\" onclick=\"quickchart('df-edb9eb8f-6c34-4d72-aacd-447542f31c48')\"\n",
              "            title=\"Suggest charts\"\n",
              "            style=\"display:none;\">\n",
              "\n",
              "<svg xmlns=\"http://www.w3.org/2000/svg\" height=\"24px\"viewBox=\"0 0 24 24\"\n",
              "     width=\"24px\">\n",
              "    <g>\n",
              "        <path d=\"M19 3H5c-1.1 0-2 .9-2 2v14c0 1.1.9 2 2 2h14c1.1 0 2-.9 2-2V5c0-1.1-.9-2-2-2zM9 17H7v-7h2v7zm4 0h-2V7h2v10zm4 0h-2v-4h2v4z\"/>\n",
              "    </g>\n",
              "</svg>\n",
              "  </button>\n",
              "\n",
              "<style>\n",
              "  .colab-df-quickchart {\n",
              "      --bg-color: #E8F0FE;\n",
              "      --fill-color: #1967D2;\n",
              "      --hover-bg-color: #E2EBFA;\n",
              "      --hover-fill-color: #174EA6;\n",
              "      --disabled-fill-color: #AAA;\n",
              "      --disabled-bg-color: #DDD;\n",
              "  }\n",
              "\n",
              "  [theme=dark] .colab-df-quickchart {\n",
              "      --bg-color: #3B4455;\n",
              "      --fill-color: #D2E3FC;\n",
              "      --hover-bg-color: #434B5C;\n",
              "      --hover-fill-color: #FFFFFF;\n",
              "      --disabled-bg-color: #3B4455;\n",
              "      --disabled-fill-color: #666;\n",
              "  }\n",
              "\n",
              "  .colab-df-quickchart {\n",
              "    background-color: var(--bg-color);\n",
              "    border: none;\n",
              "    border-radius: 50%;\n",
              "    cursor: pointer;\n",
              "    display: none;\n",
              "    fill: var(--fill-color);\n",
              "    height: 32px;\n",
              "    padding: 0;\n",
              "    width: 32px;\n",
              "  }\n",
              "\n",
              "  .colab-df-quickchart:hover {\n",
              "    background-color: var(--hover-bg-color);\n",
              "    box-shadow: 0 1px 2px rgba(60, 64, 67, 0.3), 0 1px 3px 1px rgba(60, 64, 67, 0.15);\n",
              "    fill: var(--button-hover-fill-color);\n",
              "  }\n",
              "\n",
              "  .colab-df-quickchart-complete:disabled,\n",
              "  .colab-df-quickchart-complete:disabled:hover {\n",
              "    background-color: var(--disabled-bg-color);\n",
              "    fill: var(--disabled-fill-color);\n",
              "    box-shadow: none;\n",
              "  }\n",
              "\n",
              "  .colab-df-spinner {\n",
              "    border: 2px solid var(--fill-color);\n",
              "    border-color: transparent;\n",
              "    border-bottom-color: var(--fill-color);\n",
              "    animation:\n",
              "      spin 1s steps(1) infinite;\n",
              "  }\n",
              "\n",
              "  @keyframes spin {\n",
              "    0% {\n",
              "      border-color: transparent;\n",
              "      border-bottom-color: var(--fill-color);\n",
              "      border-left-color: var(--fill-color);\n",
              "    }\n",
              "    20% {\n",
              "      border-color: transparent;\n",
              "      border-left-color: var(--fill-color);\n",
              "      border-top-color: var(--fill-color);\n",
              "    }\n",
              "    30% {\n",
              "      border-color: transparent;\n",
              "      border-left-color: var(--fill-color);\n",
              "      border-top-color: var(--fill-color);\n",
              "      border-right-color: var(--fill-color);\n",
              "    }\n",
              "    40% {\n",
              "      border-color: transparent;\n",
              "      border-right-color: var(--fill-color);\n",
              "      border-top-color: var(--fill-color);\n",
              "    }\n",
              "    60% {\n",
              "      border-color: transparent;\n",
              "      border-right-color: var(--fill-color);\n",
              "    }\n",
              "    80% {\n",
              "      border-color: transparent;\n",
              "      border-right-color: var(--fill-color);\n",
              "      border-bottom-color: var(--fill-color);\n",
              "    }\n",
              "    90% {\n",
              "      border-color: transparent;\n",
              "      border-bottom-color: var(--fill-color);\n",
              "    }\n",
              "  }\n",
              "</style>\n",
              "\n",
              "  <script>\n",
              "    async function quickchart(key) {\n",
              "      const quickchartButtonEl =\n",
              "        document.querySelector('#' + key + ' button');\n",
              "      quickchartButtonEl.disabled = true;  // To prevent multiple clicks.\n",
              "      quickchartButtonEl.classList.add('colab-df-spinner');\n",
              "      try {\n",
              "        const charts = await google.colab.kernel.invokeFunction(\n",
              "            'suggestCharts', [key], {});\n",
              "      } catch (error) {\n",
              "        console.error('Error during call to suggestCharts:', error);\n",
              "      }\n",
              "      quickchartButtonEl.classList.remove('colab-df-spinner');\n",
              "      quickchartButtonEl.classList.add('colab-df-quickchart-complete');\n",
              "    }\n",
              "    (() => {\n",
              "      let quickchartButtonEl =\n",
              "        document.querySelector('#df-edb9eb8f-6c34-4d72-aacd-447542f31c48 button');\n",
              "      quickchartButtonEl.style.display =\n",
              "        google.colab.kernel.accessAllowed ? 'block' : 'none';\n",
              "    })();\n",
              "  </script>\n",
              "</div>\n",
              "    </div>\n",
              "  </div>\n"
            ]
          },
          "metadata": {},
          "execution_count": 4
        }
      ]
    },
    {
      "cell_type": "code",
      "source": [
        "jumlah_baris = df.count()\n",
        "\n",
        "jumlah_kolom = len(df.columns)\n",
        "\n",
        "print(f\"Jumlah baris: {jumlah_baris}\")\n",
        "print(f\"Jumlah kolom: {jumlah_kolom}\")"
      ],
      "metadata": {
        "colab": {
          "base_uri": "https://localhost:8080/"
        },
        "id": "0id0nIdnEdWQ",
        "outputId": "bba6c3eb-c223-4c0c-beed-bba63d8bc0f8"
      },
      "execution_count": null,
      "outputs": [
        {
          "output_type": "stream",
          "name": "stdout",
          "text": [
            "Jumlah baris: 32833\n",
            "Jumlah kolom: 23\n"
          ]
        }
      ]
    },
    {
      "cell_type": "markdown",
      "source": [
        "## Hapus kolom yang tidak relavan dan cek duplikat data"
      ],
      "metadata": {
        "id": "nD-p1UWCPlil"
      }
    },
    {
      "cell_type": "code",
      "source": [
        "df = df.drop('track_id','track_popularity','track_album_id','track_album_release_date','playlist_id','loudness')"
      ],
      "metadata": {
        "id": "nd0FiSWwCPmx"
      },
      "execution_count": null,
      "outputs": []
    },
    {
      "cell_type": "code",
      "source": [
        "jumlah_baris = df.count()\n",
        "\n",
        "jumlah_kolom = len(df.columns)\n",
        "\n",
        "print(f\"Jumlah baris: {jumlah_baris}\")\n",
        "print(f\"Jumlah kolom: {jumlah_kolom}\")"
      ],
      "metadata": {
        "colab": {
          "base_uri": "https://localhost:8080/"
        },
        "id": "ginbqtGzEeyw",
        "outputId": "8e224bb3-fd16-4641-ae83-82d4cebcda57"
      },
      "execution_count": null,
      "outputs": [
        {
          "output_type": "stream",
          "name": "stdout",
          "text": [
            "Jumlah baris: 32833\n",
            "Jumlah kolom: 17\n"
          ]
        }
      ]
    },
    {
      "cell_type": "code",
      "source": [
        "df_no_duplicates = df.dropDuplicates()\n",
        "\n",
        "df = df_no_duplicates\n",
        "\n",
        "jumlah_baris = df.count()\n",
        "\n",
        "jumlah_kolom = len(df.columns)\n",
        "\n",
        "print(f\"Jumlah baris: {jumlah_baris}\")\n",
        "print(f\"Jumlah kolom: {jumlah_kolom}\")"
      ],
      "metadata": {
        "colab": {
          "base_uri": "https://localhost:8080/"
        },
        "id": "Zl6ZCi2iEw9N",
        "outputId": "23effa59-1c39-4eff-cdc9-1a7a13be177d"
      },
      "execution_count": null,
      "outputs": [
        {
          "output_type": "stream",
          "name": "stdout",
          "text": [
            "Jumlah baris: 32828\n",
            "Jumlah kolom: 17\n"
          ]
        }
      ]
    },
    {
      "cell_type": "markdown",
      "source": [
        "## Cek nilai null"
      ],
      "metadata": {
        "id": "Q_osL4VOP6V_"
      }
    },
    {
      "cell_type": "code",
      "source": [
        "from pyspark.sql import Row\n",
        "# Hitung jumlah NULL dalam setiap kolom\n",
        "null_counts = [df.filter(df[c].isNull()).count() for c in df.columns]\n",
        "\n",
        "# Buat DataFrame dari hasil perhitungan\n",
        "null_counts_data = [Row(Column_Name=col, NULL_Count=count) for col, count in zip(df.columns, null_counts)]\n",
        "null_counts_df = spark.createDataFrame(null_counts_data)\n",
        "\n",
        "# Tampilkan DataFrame\n",
        "null_counts_df.show()"
      ],
      "metadata": {
        "colab": {
          "base_uri": "https://localhost:8080/"
        },
        "id": "TlgadZGfE1ba",
        "outputId": "0aa1ceec-7131-408d-e461-bf2e06a1ca59"
      },
      "execution_count": null,
      "outputs": [
        {
          "output_type": "stream",
          "name": "stdout",
          "text": [
            "+-----------------+----------+\n",
            "|      Column_Name|NULL_Count|\n",
            "+-----------------+----------+\n",
            "|       track_name|         0|\n",
            "|     track_artist|         0|\n",
            "| track_album_name|         0|\n",
            "|    playlist_name|         0|\n",
            "|   playlist_genre|         0|\n",
            "|playlist_subgenre|         0|\n",
            "|     danceability|         0|\n",
            "|           energy|         0|\n",
            "|              key|         0|\n",
            "|             mode|         0|\n",
            "|      speechiness|         0|\n",
            "|     acousticness|         0|\n",
            "| instrumentalness|         0|\n",
            "|         liveness|         0|\n",
            "|          valence|         0|\n",
            "|            tempo|         0|\n",
            "|      duration_ms|         0|\n",
            "+-----------------+----------+\n",
            "\n"
          ]
        }
      ]
    },
    {
      "cell_type": "code",
      "source": [
        "df.printSchema()"
      ],
      "metadata": {
        "colab": {
          "base_uri": "https://localhost:8080/"
        },
        "id": "N4Gv4QfwDd9L",
        "outputId": "3bedd104-1a18-418d-c1da-1f7fe74af670"
      },
      "execution_count": null,
      "outputs": [
        {
          "output_type": "stream",
          "name": "stdout",
          "text": [
            "root\n",
            " |-- track_name: string (nullable = true)\n",
            " |-- track_artist: string (nullable = true)\n",
            " |-- track_album_name: string (nullable = true)\n",
            " |-- playlist_name: string (nullable = true)\n",
            " |-- playlist_genre: string (nullable = true)\n",
            " |-- playlist_subgenre: string (nullable = true)\n",
            " |-- danceability: string (nullable = true)\n",
            " |-- energy: string (nullable = true)\n",
            " |-- key: string (nullable = true)\n",
            " |-- mode: string (nullable = true)\n",
            " |-- speechiness: double (nullable = true)\n",
            " |-- acousticness: double (nullable = true)\n",
            " |-- instrumentalness: double (nullable = true)\n",
            " |-- liveness: double (nullable = true)\n",
            " |-- valence: double (nullable = true)\n",
            " |-- tempo: double (nullable = true)\n",
            " |-- duration_ms: double (nullable = true)\n",
            "\n"
          ]
        }
      ]
    },
    {
      "cell_type": "markdown",
      "source": [
        "## Ubah tipe data agar bisa diproses"
      ],
      "metadata": {
        "id": "sozX1__hP_iG"
      }
    },
    {
      "cell_type": "code",
      "source": [
        "from pyspark.sql import SparkSession\n",
        "from pyspark.ml import Pipeline\n",
        "from pyspark.ml.feature import StringIndexer, VectorAssembler\n",
        "\n",
        "string_columns = ['danceability', 'energy', 'key', 'mode']\n",
        "stages = []\n",
        "\n",
        "for string_col in string_columns:\n",
        "    string_indexer = StringIndexer(inputCol=string_col, outputCol=string_col + '_index', handleInvalid='keep')  # handleInvalid='keep' mempertahankan nilai yang tidak ada dalam model\n",
        "    stages.append(string_indexer)\n",
        "\n",
        "pipeline = Pipeline(stages=stages)\n",
        "\n",
        "pipeline_model = pipeline.fit(df)\n",
        "df = pipeline_model.transform(df)\n",
        "\n",
        "df.printSchema()"
      ],
      "metadata": {
        "colab": {
          "base_uri": "https://localhost:8080/"
        },
        "id": "_3O2OhM8BD26",
        "outputId": "1ab138d3-854a-41e2-e5cb-fcc9746ea3ae"
      },
      "execution_count": null,
      "outputs": [
        {
          "output_type": "stream",
          "name": "stdout",
          "text": [
            "root\n",
            " |-- track_name: string (nullable = true)\n",
            " |-- track_artist: string (nullable = true)\n",
            " |-- track_album_name: string (nullable = true)\n",
            " |-- playlist_name: string (nullable = true)\n",
            " |-- playlist_genre: string (nullable = true)\n",
            " |-- playlist_subgenre: string (nullable = true)\n",
            " |-- danceability: string (nullable = true)\n",
            " |-- energy: string (nullable = true)\n",
            " |-- key: string (nullable = true)\n",
            " |-- mode: string (nullable = true)\n",
            " |-- speechiness: double (nullable = true)\n",
            " |-- acousticness: double (nullable = true)\n",
            " |-- instrumentalness: double (nullable = true)\n",
            " |-- liveness: double (nullable = true)\n",
            " |-- valence: double (nullable = true)\n",
            " |-- tempo: double (nullable = true)\n",
            " |-- duration_ms: double (nullable = true)\n",
            " |-- danceability_index: double (nullable = false)\n",
            " |-- energy_index: double (nullable = false)\n",
            " |-- key_index: double (nullable = false)\n",
            " |-- mode_index: double (nullable = false)\n",
            "\n"
          ]
        }
      ]
    },
    {
      "cell_type": "code",
      "source": [
        "df = df.drop('danceability', 'energy', 'key', 'mode')"
      ],
      "metadata": {
        "id": "VYEItoLmE1Cx"
      },
      "execution_count": null,
      "outputs": []
    },
    {
      "cell_type": "code",
      "source": [
        "df.printSchema()"
      ],
      "metadata": {
        "colab": {
          "base_uri": "https://localhost:8080/"
        },
        "id": "IGYwZTwZE-nl",
        "outputId": "030b7884-81fd-488b-d839-2241310307a7"
      },
      "execution_count": null,
      "outputs": [
        {
          "output_type": "stream",
          "name": "stdout",
          "text": [
            "root\n",
            " |-- track_name: string (nullable = true)\n",
            " |-- track_artist: string (nullable = true)\n",
            " |-- track_album_name: string (nullable = true)\n",
            " |-- playlist_name: string (nullable = true)\n",
            " |-- playlist_genre: string (nullable = true)\n",
            " |-- playlist_subgenre: string (nullable = true)\n",
            " |-- speechiness: double (nullable = true)\n",
            " |-- acousticness: double (nullable = true)\n",
            " |-- instrumentalness: double (nullable = true)\n",
            " |-- liveness: double (nullable = true)\n",
            " |-- valence: double (nullable = true)\n",
            " |-- tempo: double (nullable = true)\n",
            " |-- duration_ms: double (nullable = true)\n",
            " |-- danceability_index: double (nullable = false)\n",
            " |-- energy_index: double (nullable = false)\n",
            " |-- key_index: double (nullable = false)\n",
            " |-- mode_index: double (nullable = false)\n",
            "\n"
          ]
        }
      ]
    },
    {
      "cell_type": "markdown",
      "source": [
        "## Filterring dan Oversampling untuk mengatasi imbalance data"
      ],
      "metadata": {
        "id": "sY7jYBjuQnrM"
      }
    },
    {
      "cell_type": "code",
      "source": [
        "class_counts = df.groupBy('mode_index').count().orderBy('mode_index')\n",
        "class_counts.show()\n",
        "\n",
        "class_counts_pd = class_counts.toPandas()\n",
        "\n",
        "plt.figure(figsize=(8, 5))\n",
        "plt.bar(class_counts_pd['mode_index'], class_counts_pd['count'], color='skyblue')\n",
        "plt.xlabel('Label')\n",
        "plt.ylabel('Jumlah Data')\n",
        "plt.title('Jumlah Data per Kelas')\n",
        "plt.show()"
      ],
      "metadata": {
        "colab": {
          "base_uri": "https://localhost:8080/",
          "height": 816
        },
        "id": "PLACNyH8BVOc",
        "outputId": "81afe255-d96f-475f-c474-8d4aa43adf31"
      },
      "execution_count": null,
      "outputs": [
        {
          "output_type": "stream",
          "name": "stdout",
          "text": [
            "+----------+-----+\n",
            "|mode_index|count|\n",
            "+----------+-----+\n",
            "|       0.0|18562|\n",
            "|       1.0|14254|\n",
            "|       2.0|    2|\n",
            "|       3.0|    1|\n",
            "|       4.0|    1|\n",
            "|       5.0|    1|\n",
            "|       6.0|    1|\n",
            "|       7.0|    1|\n",
            "|       8.0|    1|\n",
            "|       9.0|    1|\n",
            "|      10.0|    1|\n",
            "|      11.0|    1|\n",
            "|      12.0|    1|\n",
            "+----------+-----+\n",
            "\n"
          ]
        },
        {
          "output_type": "display_data",
          "data": {
            "text/plain": [
              "<Figure size 800x500 with 1 Axes>"
            ],
            "image/png": "[encoded data removed]"
          },
          "metadata": {}
        }
      ]
    },
    {
      "cell_type": "code",
      "source": [
        "filtered_df = df.filter((col(\"mode_index\") < 2.0))\n",
        "\n",
        "class_counts = filtered_df.groupBy('mode_index').count().orderBy('mode_index')\n",
        "class_counts.show()\n",
        "\n",
        "class_counts_pd = class_counts.toPandas()\n",
        "\n",
        "plt.figure(figsize=(8, 5))\n",
        "plt.bar(class_counts_pd['mode_index'], class_counts_pd['count'], color='skyblue')\n",
        "plt.xlabel('Label')\n",
        "plt.ylabel('Jumlah Data')\n",
        "plt.xticks(class_counts_pd['mode_index'])\n",
        "plt.title('Jumlah Data per Kelas')\n",
        "plt.show()"
      ],
      "metadata": {
        "colab": {
          "base_uri": "https://localhost:8080/",
          "height": 615
        },
        "id": "ApbcQXXIFFGD",
        "outputId": "330408c3-cc1c-4c61-ca95-47b72e2e6831"
      },
      "execution_count": null,
      "outputs": [
        {
          "output_type": "stream",
          "name": "stdout",
          "text": [
            "+----------+-----+\n",
            "|mode_index|count|\n",
            "+----------+-----+\n",
            "|       0.0|18562|\n",
            "|       1.0|14254|\n",
            "+----------+-----+\n",
            "\n"
          ]
        },
        {
          "output_type": "display_data",
          "data": {
            "text/plain": [
              "<Figure size 800x500 with 1 Axes>"
            ],
            "image/png": "[encoded data removed]"
          },
          "metadata": {}
        }
      ]
    },
    {
      "cell_type": "code",
      "source": [
        "df = filtered_df"
      ],
      "metadata": {
        "id": "v7674drpUllJ"
      },
      "execution_count": null,
      "outputs": []
    },
    {
      "cell_type": "code",
      "source": [
        "kelas_minoritas = df.groupBy('mode_index').count().orderBy('count').limit(1).select('mode_index').collect()[0]['mode_index']\n",
        "\n",
        "# Pisahkan kelas minoritas dan mayoritas\n",
        "df_minoritas = df.filter(col('mode_index') == kelas_minoritas)\n",
        "df_mayoritas = df.filter(col('mode_index') != kelas_minoritas)\n",
        "\n",
        "# Hitung rasio kelas minoritas terhadap mayoritas\n",
        "jumlah_minoritas = df_minoritas.count()\n",
        "jumlah_mayoritas = df_mayoritas.count()\n",
        "rasio = float(jumlah_mayoritas / jumlah_minoritas)\n",
        "\n",
        "# Oversampling kelas minoritas\n",
        "df_minoritas_oversampled = df_minoritas.sample(withReplacement=True, fraction=rasio, seed=42)\n",
        "\n",
        "# Gabungkan kelas minoritas yang sudah di-oversampling dengan mayoritas\n",
        "df_oversampled = df_mayoritas.unionAll(df_minoritas_oversampled)"
      ],
      "metadata": {
        "id": "bA5GlB9TTDhS"
      },
      "execution_count": null,
      "outputs": []
    },
    {
      "cell_type": "code",
      "source": [
        "class_counts = df_oversampled.groupBy('mode_index').count().orderBy('mode_index')\n",
        "class_counts.show()\n",
        "\n",
        "class_counts_pd = class_counts.toPandas()\n",
        "\n",
        "plt.figure(figsize=(8, 5))\n",
        "plt.bar(class_counts_pd['mode_index'], class_counts_pd['count'], color='skyblue')\n",
        "plt.xlabel('Label')\n",
        "plt.ylabel('Jumlah Data')\n",
        "plt.xticks(class_counts_pd['mode_index'])\n",
        "plt.title('Jumlah Data per Kelas')\n",
        "plt.show()"
      ],
      "metadata": {
        "colab": {
          "base_uri": "https://localhost:8080/",
          "height": 615
        },
        "id": "5FBhxnPcTTui",
        "outputId": "d8bbe589-6613-495e-a1bf-710213962768"
      },
      "execution_count": null,
      "outputs": [
        {
          "output_type": "stream",
          "name": "stdout",
          "text": [
            "+----------+-----+\n",
            "|mode_index|count|\n",
            "+----------+-----+\n",
            "|       0.0|18562|\n",
            "|       1.0|18704|\n",
            "+----------+-----+\n",
            "\n"
          ]
        },
        {
          "output_type": "display_data",
          "data": {
            "text/plain": [
              "<Figure size 800x500 with 1 Axes>"
            ],
            "image/png": "[encoded data removed]"
          },
          "metadata": {}
        }
      ]
    },
    {
      "cell_type": "markdown",
      "source": [
        "## Summary dan Correlation Matrix"
      ],
      "metadata": {
        "id": "jRcoQxtE9b9A"
      }
    },
    {
      "cell_type": "code",
      "source": [
        "df = df_oversampled"
      ],
      "metadata": {
        "id": "ZQoXonPnObpO"
      },
      "execution_count": null,
      "outputs": []
    },
    {
      "cell_type": "code",
      "source": [
        "numeric_features = [t[0] for t in df.dtypes if t[1] in ['int','double']]\n",
        "\n",
        "# yang diambil hanya kolom yang memiliki fitur numerik\n",
        "numeric_summary = df.select(numeric_features).summary()\n",
        "numeric_summary.show(truncate=False)"
      ],
      "metadata": {
        "colab": {
          "base_uri": "https://localhost:8080/"
        },
        "id": "IpjOEAb2E-E5",
        "outputId": "eedd9243-f132-4b5c-e023-a4c29dea7c28"
      },
      "execution_count": null,
      "outputs": [
        {
          "output_type": "stream",
          "name": "stdout",
          "text": [
            "+-------+-------------------+-------------------+-------------------+-------------------+------------------+------------------+-----------------+------------------+------------------+------------------+------------------+\n",
            "|summary|speechiness        |acousticness       |instrumentalness   |liveness           |valence           |tempo             |duration_ms      |danceability_index|energy_index      |key_index         |mode_index        |\n",
            "+-------+-------------------+-------------------+-------------------+-------------------+------------------+------------------+-----------------+------------------+------------------+------------------+------------------+\n",
            "|count  |37266              |37266              |37266              |37266              |37266             |37266             |37266            |37266             |37266             |37266             |37266             |\n",
            "|mean   |0.10784932109697894|0.17453726445231785|0.08418631687275303|0.19078322224011157|0.5103719736489021|120.84477075618491|225860.4883271615|220.67627327859174|266.416197069715  |4.71384103472334  |0.5019052219181023|\n",
            "|stddev |0.10173134724699211|0.21847261978619206|0.22318533706785265|0.15497766397978283|0.2329298083004369|26.775461498206326|59975.72650406616|167.02760815337575|192.30079422379518|3.2948345245741097|0.5000030787304601|\n",
            "|min    |0.0                |0.0                |0.0                |0.0                |0.0               |0.0               |4000.0           |0.0               |0.0               |0.0               |0.0               |\n",
            "|25%    |0.0415             |0.015              |0.0                |0.0931             |0.33              |99.95             |187693.0         |83.0              |105.0             |2.0               |0.0               |\n",
            "|50%    |0.0632             |0.0805             |1.62E-5            |0.128              |0.512             |121.998           |215788.0         |187.0             |235.0             |4.0               |1.0               |\n",
            "|75%    |0.133              |0.252              |0.00473            |0.249              |0.693             |133.352           |253520.0         |325.0             |397.0             |7.0               |1.0               |\n",
            "|max    |0.918              |0.994              |0.994              |0.996              |0.991             |239.44            |517810.0         |823.0             |951.0             |11.0              |1.0               |\n",
            "+-------+-------------------+-------------------+-------------------+-------------------+------------------+------------------+-----------------+------------------+------------------+------------------+------------------+\n",
            "\n"
          ]
        }
      ]
    },
    {
      "cell_type": "code",
      "source": [
        "from pyspark.ml.feature import VectorAssembler\n",
        "from pyspark.ml.stat import Correlation\n",
        "from pyspark.sql.functions import col\n",
        "import seaborn as sns\n",
        "import matplotlib.pyplot as plt\n",
        "\n",
        "integer_columns = [col_name for col_name, col_type in df.dtypes if col_type in ['int','double']]\n",
        "\n",
        "vector_assembler = VectorAssembler(inputCols=integer_columns, outputCol=\"features\")\n",
        "\n",
        "for c in integer_columns:\n",
        "    median_value = df.approxQuantile(c, [0.5], 0.0)[0]\n",
        "    df = df.na.fill(median_value, [c])\n",
        "\n",
        "vector_assembler = VectorAssembler(inputCols=integer_columns, outputCol=\"features\")\n",
        "\n",
        "df_assembled = vector_assembler.transform(df).select(\"features\")\n",
        "\n",
        "matrix = Correlation.corr(df_assembled, \"features\").head()\n",
        "correlation_matrix = matrix[0].toArray()\n",
        "\n",
        "correlation_df = pd.DataFrame(correlation_matrix, columns=integer_columns, index=integer_columns)\n",
        "\n",
        "plt.figure(figsize=(12, 8))\n",
        "sns.heatmap(correlation_df, annot=True, cmap=\"coolwarm\", fmt=\".2f\", linewidths=.5)\n",
        "plt.title(\"Correlation Matrix Heatmap (Integer Columns Only)\")\n",
        "plt.show()"
      ],
      "metadata": {
        "colab": {
          "base_uri": "https://localhost:8080/",
          "height": 815
        },
        "id": "-TWAw4OyK0cW",
        "outputId": "fae1f04f-803a-4c54-e7fd-6d78174b0239"
      },
      "execution_count": null,
      "outputs": [
        {
          "output_type": "display_data",
          "data": {
            "text/plain": [
              "<Figure size 1200x800 with 2 Axes>"
            ],
            "image/png": "[encoded data removed]"
          },
          "metadata": {}
        }
      ]
    },
    {
      "cell_type": "markdown",
      "source": [
        "# **Feature Selection and Splitting**"
      ],
      "metadata": {
        "id": "MiR5IkVK9DAw"
      }
    },
    {
      "cell_type": "code",
      "source": [
        "# Nama kolom-kolom\n",
        "feature_columns = [\"speechiness\", \"acousticness\", \"instrumentalness\", \"liveness\", \"valence\", \"tempo\", \"duration_ms\", \"danceability_index\", \"energy_index\", \"key_index\"]\n",
        "\n",
        "# Pisahkan fitur dan label\n",
        "assembler = VectorAssembler(inputCols=feature_columns, outputCol='features')\n",
        "df = assembler.transform(df).select('features', 'mode_index')\n",
        "\n",
        "# Tampilkan hasil\n",
        "df.show(truncate=False)"
      ],
      "metadata": {
        "colab": {
          "base_uri": "https://localhost:8080/"
        },
        "id": "bNqvDm31LfZf",
        "outputId": "c3465b94-0fde-47c3-b3b3-1429ed3a2b7a"
      },
      "execution_count": null,
      "outputs": [
        {
          "output_type": "stream",
          "name": "stdout",
          "text": [
            "+----------------------------------------------------------------------+----------+\n",
            "|features                                                              |mode_index|\n",
            "+----------------------------------------------------------------------+----------+\n",
            "|[0.0356,0.0271,0.0291,0.0799,0.729,109.011,177781.0,79.0,1.0,0.0]     |0.0       |\n",
            "|[0.249,0.161,0.0,0.114,0.394,163.239,169756.0,342.0,212.0,8.0]        |0.0       |\n",
            "|[0.0868,9.49E-4,2.94E-4,0.0531,0.787,156.068,143080.0,543.0,427.0,0.0]|0.0       |\n",
            "|[0.0957,0.0209,8.55E-6,0.0879,0.253,128.942,234653.0,207.0,35.0,5.0]  |0.0       |\n",
            "|[0.0329,0.0227,1.39E-6,0.229,0.659,124.016,189000.0,160.0,151.0,2.0]  |0.0       |\n",
            "|[0.0316,0.00563,0.00565,0.138,0.393,127.011,300582.0,84.0,183.0,6.0]  |0.0       |\n",
            "|[0.0284,0.103,0.197,0.0765,0.443,127.003,282950.0,418.0,125.0,2.0]    |0.0       |\n",
            "|[0.193,0.0101,0.0,0.343,0.335,149.822,260987.0,458.0,24.0,10.0]       |0.0       |\n",
            "|[0.0341,0.00959,0.0423,0.112,0.681,128.065,192053.0,276.0,65.0,1.0]   |0.0       |\n",
            "|[0.0315,0.455,0.769,0.136,0.535,79.979,230000.0,225.0,138.0,6.0]      |0.0       |\n",
            "|[0.0777,0.114,0.867,0.0979,0.272,80.01,108125.0,192.0,778.0,8.0]      |0.0       |\n",
            "|[0.0328,0.589,0.0,0.106,0.193,103.409,213962.0,290.0,558.0,5.0]       |0.0       |\n",
            "|[0.124,0.0184,0.0,0.156,0.318,110.125,228253.0,238.0,233.0,6.0]       |0.0       |\n",
            "|[0.231,0.837,9.48E-5,0.121,0.522,62.619,80407.0,4.0,306.0,8.0]        |0.0       |\n",
            "|[0.036,5.45E-4,1.24E-4,0.126,0.659,118.004,241557.0,245.0,16.0,0.0]   |0.0       |\n",
            "|[0.0369,3.73E-4,7.42E-4,0.244,0.577,84.011,217440.0,290.0,92.0,6.0]   |0.0       |\n",
            "|[0.0284,0.917,1.9E-6,0.0996,0.269,86.627,175859.0,607.0,735.0,9.0]    |0.0       |\n",
            "|[0.0735,0.392,0.0,0.151,0.244,97.008,180435.0,221.0,344.0,2.0]        |0.0       |\n",
            "|[0.18,0.12,0.0,0.0585,0.689,113.998,260480.0,691.0,296.0,1.0]         |0.0       |\n",
            "|[0.233,0.0217,0.0,0.278,0.678,82.02,256267.0,227.0,335.0,2.0]         |0.0       |\n",
            "+----------------------------------------------------------------------+----------+\n",
            "only showing top 20 rows\n",
            "\n"
          ]
        }
      ]
    },
    {
      "cell_type": "code",
      "source": [
        "train, test = df.randomSplit([0.8, 0.2], seed = 42)\n",
        "print(\"Training Dataset Count: \" + str(train.count()))\n",
        "print(\"Test Dataset Count: \" + str(test.count()))"
      ],
      "metadata": {
        "colab": {
          "base_uri": "https://localhost:8080/"
        },
        "id": "UVBhmknBNhDa",
        "outputId": "d018f159-bff6-4959-b540-b75f5377980a"
      },
      "execution_count": null,
      "outputs": [
        {
          "output_type": "stream",
          "name": "stdout",
          "text": [
            "Training Dataset Count: 29934\n",
            "Test Dataset Count: 7332\n"
          ]
        }
      ]
    },
    {
      "cell_type": "markdown",
      "source": [
        "# **Modelling**"
      ],
      "metadata": {
        "id": "lUsQ3jZ_87q3"
      }
    },
    {
      "cell_type": "markdown",
      "source": [
        "## Random Forest"
      ],
      "metadata": {
        "id": "UxD4oh3a83pU"
      }
    },
    {
      "cell_type": "code",
      "source": [
        "from pyspark.ml.classification import RandomForestClassifier\n",
        "from pyspark.ml.evaluation import MulticlassClassificationEvaluator\n",
        "from sklearn.metrics import classification_report\n",
        "\n",
        "# Inisialisasi model Random Forest\n",
        "rf = RandomForestClassifier(featuresCol='features', labelCol='mode_index', numTrees=50, seed=42)\n",
        "\n",
        "# Training model\n",
        "rf_model = rf.fit(train)\n",
        "\n",
        "# Membuat prediksi\n",
        "predictions1 = rf_model.transform(test)\n",
        "\n",
        "# Mendapatkan nilai prediksi dan nilai sebenarnya\n",
        "y1_true = predictions1.select('mode_index').rdd.flatMap(lambda x: x).collect()\n",
        "y1_pred = predictions1.select('prediction').rdd.flatMap(lambda x: x).collect()\n",
        "\n",
        "# Membuat classification report menggunakan scikit-learn\n",
        "report = classification_report(y1_true, y1_pred)\n",
        "print(report)"
      ],
      "metadata": {
        "colab": {
          "base_uri": "https://localhost:8080/"
        },
        "id": "0u65S5CmNoIn",
        "outputId": "f6c7bd98-0915-4b07-cd35-8881b5c35917"
      },
      "execution_count": null,
      "outputs": [
        {
          "output_type": "stream",
          "name": "stdout",
          "text": [
            "              precision    recall  f1-score   support\n",
            "\n",
            "         0.0       0.64      0.56      0.60      3652\n",
            "         1.0       0.61      0.69      0.65      3680\n",
            "\n",
            "    accuracy                           0.63      7332\n",
            "   macro avg       0.63      0.63      0.62      7332\n",
            "weighted avg       0.63      0.63      0.62      7332\n",
            "\n"
          ]
        }
      ]
    },
    {
      "cell_type": "code",
      "source": [
        "from sklearn.metrics import confusion_matrix\n",
        "import seaborn as sns\n",
        "import matplotlib.pyplot as plt\n",
        "\n",
        "# Tampilkan confusion matrix\n",
        "sns.heatmap(confusion_matrix(y1_true, y1_pred), annot=True, fmt=\"d\", cmap=\"Blues\")\n",
        "plt.title('Confusion Matrix')\n",
        "plt.xlabel('Predicted Label')\n",
        "plt.ylabel('True Label')\n",
        "plt.show()"
      ],
      "metadata": {
        "colab": {
          "base_uri": "https://localhost:8080/",
          "height": 472
        },
        "id": "fJVU09A7PtrB",
        "outputId": "a560e003-94a8-40e0-8b0c-6253cc1b4b51"
      },
      "execution_count": null,
      "outputs": [
        {
          "output_type": "display_data",
          "data": {
            "text/plain": [
              "<Figure size 640x480 with 2 Axes>"
            ],
            "image/png": "[encoded data removed]"
          },
          "metadata": {}
        }
      ]
    },
    {
      "cell_type": "markdown",
      "source": [
        "## Logistic Regression"
      ],
      "metadata": {
        "id": "IMJCKsQo8zI1"
      }
    },
    {
      "cell_type": "code",
      "source": [
        "from pyspark.ml.evaluation import MulticlassClassificationEvaluator\n",
        "from pyspark.ml.classification import LogisticRegression\n",
        "from sklearn.metrics import classification_report\n",
        "\n",
        "lr = LogisticRegression(featuresCol = 'features', labelCol = 'mode_index', maxIter=10)\n",
        "lrModel = lr.fit(train)\n",
        "\n",
        "predictions2 = lrModel.transform(test)\n",
        "\n",
        "# Mendapatkan nilai prediksi dan nilai sebenarnya\n",
        "y2_true = predictions2.select('mode_index').rdd.flatMap(lambda x: x).collect()\n",
        "y2_pred = predictions2.select('prediction').rdd.flatMap(lambda x: x).collect()\n",
        "\n",
        "# Membuat classification report menggunakan scikit-learn\n",
        "report = classification_report(y2_true, y2_pred)\n",
        "print(report)"
      ],
      "metadata": {
        "colab": {
          "base_uri": "https://localhost:8080/"
        },
        "id": "uV9OnqLpQsf8",
        "outputId": "8e94c499-1c64-463d-bf93-88ea8251d224"
      },
      "execution_count": null,
      "outputs": [
        {
          "output_type": "stream",
          "name": "stdout",
          "text": [
            "              precision    recall  f1-score   support\n",
            "\n",
            "         0.0       0.57      0.59      0.58      3652\n",
            "         1.0       0.58      0.56      0.57      3680\n",
            "\n",
            "    accuracy                           0.58      7332\n",
            "   macro avg       0.58      0.58      0.58      7332\n",
            "weighted avg       0.58      0.58      0.58      7332\n",
            "\n"
          ]
        }
      ]
    },
    {
      "cell_type": "code",
      "source": [
        "from sklearn.metrics import confusion_matrix\n",
        "import seaborn as sns\n",
        "import matplotlib.pyplot as plt\n",
        "\n",
        "# Tampilkan confusion matrix\n",
        "sns.heatmap(confusion_matrix(y2_true, y2_pred), annot=True, fmt=\"d\", cmap=\"Blues\")\n",
        "plt.title('Confusion Matrix')\n",
        "plt.xlabel('Predicted Label')\n",
        "plt.ylabel('True Label')\n",
        "plt.show()"
      ],
      "metadata": {
        "colab": {
          "base_uri": "https://localhost:8080/",
          "height": 472
        },
        "id": "7hRHPqdxRDez",
        "outputId": "619b5915-b705-453f-d53c-baf5bab9a12f"
      },
      "execution_count": null,
      "outputs": [
        {
          "output_type": "display_data",
          "data": {
            "text/plain": [
              "<Figure size 640x480 with 2 Axes>"
            ],
            "image/png": "[encoded data removed]"
          },
          "metadata": {}
        }
      ]
    },
    {
      "cell_type": "markdown",
      "source": [
        "## Decision Tree"
      ],
      "metadata": {
        "id": "aQbWkIPQ8twd"
      }
    },
    {
      "cell_type": "code",
      "source": [
        "from pyspark.ml.classification import DecisionTreeClassifier\n",
        "\n",
        "dt = DecisionTreeClassifier(featuresCol='features', labelCol='mode_index', seed=42)\n",
        "dt_model = dt.fit(train)\n",
        "\n",
        "predictions3 = dt_model.transform(test)\n",
        "\n",
        "# Mendapatkan nilai prediksi dan nilai sebenarnya\n",
        "y3_true = predictions3.select('mode_index').rdd.flatMap(lambda x: x).collect()\n",
        "y3_pred = predictions3.select('prediction').rdd.flatMap(lambda x: x).collect()\n",
        "\n",
        "# Membuat classification report menggunakan scikit-learn\n",
        "report = classification_report(y3_true, y3_pred)\n",
        "print(report)"
      ],
      "metadata": {
        "colab": {
          "base_uri": "https://localhost:8080/"
        },
        "id": "Hc8jI1AkR4Dl",
        "outputId": "8f6f2677-5ae4-4196-c096-29ab06132584"
      },
      "execution_count": null,
      "outputs": [
        {
          "output_type": "stream",
          "name": "stdout",
          "text": [
            "              precision    recall  f1-score   support\n",
            "\n",
            "         0.0       0.63      0.69      0.66      3652\n",
            "         1.0       0.66      0.61      0.63      3680\n",
            "\n",
            "    accuracy                           0.65      7332\n",
            "   macro avg       0.65      0.65      0.65      7332\n",
            "weighted avg       0.65      0.65      0.65      7332\n",
            "\n"
          ]
        }
      ]
    },
    {
      "cell_type": "code",
      "source": [
        "from sklearn.metrics import confusion_matrix\n",
        "import seaborn as sns\n",
        "import matplotlib.pyplot as plt\n",
        "\n",
        "# Tampilkan confusion matrix\n",
        "sns.heatmap(confusion_matrix(y3_true, y3_pred), annot=True, fmt=\"d\", cmap=\"Blues\")\n",
        "plt.title('Confusion Matrix')\n",
        "plt.xlabel('Predicted Label')\n",
        "plt.ylabel('True Label')\n",
        "plt.show()"
      ],
      "metadata": {
        "colab": {
          "base_uri": "https://localhost:8080/",
          "height": 472
        },
        "id": "zm9__iUkR7u8",
        "outputId": "aa7690ba-c5b8-4987-97fe-c02098f51ce3"
      },
      "execution_count": null,
      "outputs": [
        {
          "output_type": "display_data",
          "data": {
            "text/plain": [
              "<Figure size 640x480 with 2 Axes>"
            ],
            "image/png": "[encoded data removed]"
          },
          "metadata": {}
        }
      ]
    },
    {
      "cell_type": "markdown",
      "source": [
        "## Gradient-Boosted Tree (GBT)"
      ],
      "metadata": {
        "id": "uuwQtszP8g6-"
      }
    },
    {
      "cell_type": "code",
      "source": [
        "from pyspark.ml.classification import GBTClassifier\n",
        "\n",
        "gbt = GBTClassifier(featuresCol='features', labelCol='mode_index', maxDepth=5, maxIter=20, seed=42)\n",
        "gbt_model = gbt.fit(train)\n",
        "\n",
        "predictions4 = gbt_model.transform(test)\n",
        "\n",
        "# Mendapatkan nilai prediksi dan nilai sebenarnya\n",
        "y4_true = predictions4.select('mode_index').rdd.flatMap(lambda x: x).collect()\n",
        "y4_pred = predictions4.select('prediction').rdd.flatMap(lambda x: x).collect()\n",
        "\n",
        "# Membuat classification report menggunakan scikit-learn\n",
        "report = classification_report(y4_true, y4_pred)\n",
        "print(report)"
      ],
      "metadata": {
        "colab": {
          "base_uri": "https://localhost:8080/"
        },
        "id": "zl8YzzUGSOAl",
        "outputId": "91052170-dc7f-43bf-8092-5f59b2974365"
      },
      "execution_count": null,
      "outputs": [
        {
          "output_type": "stream",
          "name": "stdout",
          "text": [
            "              precision    recall  f1-score   support\n",
            "\n",
            "         0.0       0.66      0.69      0.67      3652\n",
            "         1.0       0.67      0.64      0.66      3680\n",
            "\n",
            "    accuracy                           0.67      7332\n",
            "   macro avg       0.67      0.67      0.67      7332\n",
            "weighted avg       0.67      0.67      0.67      7332\n",
            "\n"
          ]
        }
      ]
    },
    {
      "cell_type": "code",
      "source": [
        "from sklearn.metrics import confusion_matrix\n",
        "import seaborn as sns\n",
        "import matplotlib.pyplot as plt\n",
        "\n",
        "# Tampilkan confusion matrix\n",
        "sns.heatmap(confusion_matrix(y4_true, y4_pred), annot=True, fmt=\"d\", cmap=\"Blues\")\n",
        "plt.title('Confusion Matrix')\n",
        "plt.xlabel('Predicted Label')\n",
        "plt.ylabel('True Label')\n",
        "plt.show()"
      ],
      "metadata": {
        "colab": {
          "base_uri": "https://localhost:8080/",
          "height": 472
        },
        "id": "Tl50BMLKSTVQ",
        "outputId": "e543c40d-c65c-4ee7-f763-dfc844cfe833"
      },
      "execution_count": null,
      "outputs": [
        {
          "output_type": "display_data",
          "data": {
            "text/plain": [
              "<Figure size 640x480 with 2 Axes>"
            ],
            "image/png": "[encoded data removed]"
          },
          "metadata": {}
        }
      ]
    },
    {
      "cell_type": "markdown",
      "source": [
        "# **Hyperparameter Tunning**"
      ],
      "metadata": {
        "id": "EdKLFxtZ7X_d"
      }
    },
    {
      "cell_type": "markdown",
      "source": [
        "## Decision Tree"
      ],
      "metadata": {
        "id": "B7c-sH7q7gh4"
      }
    },
    {
      "cell_type": "code",
      "source": [
        "from pyspark.ml.tuning import ParamGridBuilder, CrossValidator\n",
        "from pyspark.ml.evaluation import MulticlassClassificationEvaluator\n",
        "from pyspark.ml.classification import DecisionTreeClassifier\n",
        "\n",
        "# Define your DecisionTreeClassifier\n",
        "dt = DecisionTreeClassifier(featuresCol='features', labelCol='mode_index', seed=42)\n",
        "\n",
        "# Define the parameter grid to search through\n",
        "paramGrid = (ParamGridBuilder()\n",
        "             .addGrid(dt.maxDepth, [5, 15, 30])\n",
        "             .addGrid(dt.maxBins, [32, 45, 60])\n",
        "             .build())\n",
        "\n",
        "# Define an evaluator\n",
        "evaluator = MulticlassClassificationEvaluator(labelCol='mode_index', predictionCol='prediction')\n",
        "\n",
        "# Create a cross-validator\n",
        "crossval = CrossValidator(estimator=dt,\n",
        "                          estimatorParamMaps=paramGrid,\n",
        "                          evaluator=evaluator,\n",
        "                          numFolds=3)  # You can adjust the number of folds\n",
        "\n",
        "# Fit the model\n",
        "cv_model = crossval.fit(train)\n",
        "\n",
        "# Get the best model from cross-validation\n",
        "best_model = cv_model.bestModel\n",
        "\n",
        "# Make predictions with the best model\n",
        "predictions = best_model.transform(test)\n",
        "\n",
        "# Evaluate the model\n",
        "accuracy = evaluator.evaluate(predictions, {evaluator.metricName: \"accuracy\"})\n",
        "precision = evaluator.evaluate(predictions, {evaluator.metricName: \"weightedPrecision\"})\n",
        "f1_score = evaluator.evaluate(predictions, {evaluator.metricName: \"f1\"})\n",
        "recall = evaluator.evaluate(predictions, {evaluator.metricName: \"weightedRecall\"})\n",
        "\n",
        "print(f\"Accuracy: {accuracy}\")\n",
        "print(f\"Precision: {precision}\")\n",
        "print(f\"F1 Score: {f1_score}\")\n",
        "print(f\"Recall: {recall}\")\n",
        "\n",
        "# Get the best parameters\n",
        "best_maxDepth = best_model.getMaxDepth()\n",
        "best_maxBins = best_model.getMaxBins()\n",
        "print(\"Best maxDepth:\", best_maxDepth)\n",
        "print(\"Best maxBins:\", best_maxBins)"
      ],
      "metadata": {
        "colab": {
          "base_uri": "https://localhost:8080/"
        },
        "id": "nGqvsGrUspij",
        "outputId": "de703dd7-f3da-4b7e-eb57-060ad9b8f59f"
      },
      "execution_count": null,
      "outputs": [
        {
          "output_type": "stream",
          "name": "stdout",
          "text": [
            "Accuracy: 0.8011456628477905\n",
            "Precision: 0.8054990610438011\n",
            "F1 Score: 0.800374051625683\n",
            "Recall: 0.8011456628477905\n",
            "Best maxDepth: 30\n",
            "Best maxBins: 60\n"
          ]
        }
      ]
    },
    {
      "cell_type": "markdown",
      "source": [
        "**Tampilan menggunakan classification report**"
      ],
      "metadata": {
        "id": "9QcW12WaChcm"
      }
    },
    {
      "cell_type": "code",
      "source": [
        "from sklearn.metrics import classification_report\n",
        "\n",
        "# Make predictions with the best model\n",
        "predictions_dt = best_model.transform(test)\n",
        "\n",
        "# Get the best parameters\n",
        "best_maxDepth = best_model.getMaxDepth()\n",
        "best_maxBins = best_model.getMaxBins()\n",
        "print(\"Best maxDepth:\", best_maxDepth)\n",
        "print(\"Best maxBins:\", best_maxBins)\n",
        "\n",
        "# Convert PySpark DataFrame to Pandas DataFrame\n",
        "predictions_pd1 = predictions_dt.select('mode_index', 'prediction').toPandas()\n",
        "\n",
        "# Display classification report\n",
        "report = classification_report(predictions_pd1['mode_index'], predictions_pd1['prediction'])\n",
        "print(\"\\n\",report)"
      ],
      "metadata": {
        "id": "AYwg17OYARCv",
        "colab": {
          "base_uri": "https://localhost:8080/"
        },
        "outputId": "81038fdb-bdc4-4445-d01b-f54a1301728b"
      },
      "execution_count": null,
      "outputs": [
        {
          "output_type": "stream",
          "name": "stdout",
          "text": [
            "Best maxDepth: 30\n",
            "Best maxBins: 60\n",
            "\n",
            "               precision    recall  f1-score   support\n",
            "\n",
            "         0.0       0.84      0.74      0.79      3652\n",
            "         1.0       0.77      0.86      0.81      3680\n",
            "\n",
            "    accuracy                           0.80      7332\n",
            "   macro avg       0.81      0.80      0.80      7332\n",
            "weighted avg       0.81      0.80      0.80      7332\n",
            "\n"
          ]
        }
      ]
    },
    {
      "cell_type": "markdown",
      "source": [
        "## Gradien-Boosted Tree (GBT)"
      ],
      "metadata": {
        "id": "g_z3Oki38I7e"
      }
    },
    {
      "cell_type": "code",
      "source": [
        "from pyspark.ml.tuning import ParamGridBuilder, CrossValidator\n",
        "from pyspark.ml.evaluation import MulticlassClassificationEvaluator\n",
        "from pyspark.ml.classification import GBTClassifier\n",
        "\n",
        "# Define your GBTClassifier\n",
        "gbt = GBTClassifier(featuresCol='features', labelCol='mode_index', seed=42)\n",
        "\n",
        "# Define the parameter grid to search through\n",
        "paramGrid = (ParamGridBuilder()\n",
        "             .addGrid(gbt.maxDepth, [5, 10, 20])\n",
        "             .addGrid(gbt.maxBins, [32, 40, 50])\n",
        "             .addGrid(gbt.maxIter, [10, 20])\n",
        "             .build())\n",
        "\n",
        "# Define an evaluator\n",
        "evaluator = MulticlassClassificationEvaluator(labelCol='mode_index', predictionCol='prediction')\n",
        "\n",
        "# Create a cross-validator\n",
        "crossval = CrossValidator(estimator=gbt,\n",
        "                          estimatorParamMaps=paramGrid,\n",
        "                          evaluator=evaluator,\n",
        "                          numFolds=3)  # You can adjust the number of folds\n",
        "\n",
        "# Fit the model\n",
        "cv_model = crossval.fit(train)\n",
        "\n",
        "# Get the best model from cross-validation\n",
        "best_model = cv_model.bestModel\n",
        "\n",
        "# Make predictions with the best model\n",
        "predictions = best_model.transform(test)\n",
        "\n",
        "# Evaluate the model\n",
        "accuracy = evaluator.evaluate(predictions, {evaluator.metricName: \"accuracy\"})\n",
        "precision = evaluator.evaluate(predictions, {evaluator.metricName: \"weightedPrecision\"})\n",
        "f1_score = evaluator.evaluate(predictions, {evaluator.metricName: \"f1\"})\n",
        "recall = evaluator.evaluate(predictions, {evaluator.metricName: \"weightedRecall\"})\n",
        "\n",
        "print(f\"Accuracy: {accuracy}\")\n",
        "print(f\"Precision: {precision}\")\n",
        "print(f\"F1 Score: {f1_score}\")\n",
        "print(f\"Recall: {recall}\")\n",
        "\n",
        "# Get the best parameters\n",
        "best_maxDepth = best_model.getMaxDepth()\n",
        "best_maxBins = best_model.getMaxBins()\n",
        "best_maxIter = best_model.getMaxIter()\n",
        "print(\"Best maxDepth:\", best_maxDepth)\n",
        "print(\"Best maxBins:\", best_maxBins)\n",
        "print(\"Best maxIter:\", best_maxIter)"
      ],
      "metadata": {
        "colab": {
          "base_uri": "https://localhost:8080/"
        },
        "outputId": "511615d4-cc24-4a00-ae9d-d98e499cdcda",
        "id": "HZLsnI4Jux40"
      },
      "execution_count": null,
      "outputs": [
        {
          "output_type": "stream",
          "name": "stdout",
          "text": [
            "Accuracy: 0.8019639934533551\n",
            "Precision: 0.8054854335303139\n",
            "F1 Score: 0.8013372923172957\n",
            "Recall: 0.8019639934533551\n",
            "Best maxDepth: 20\n",
            "Best maxBins: 50\n",
            "Best maxIter: 10\n"
          ]
        }
      ]
    },
    {
      "cell_type": "markdown",
      "source": [
        "**Tampilan menggunakan classification report**"
      ],
      "metadata": {
        "id": "UmRcIjXaDiXR"
      }
    },
    {
      "cell_type": "code",
      "source": [
        "from sklearn.metrics import classification_report\n",
        "\n",
        "# Make predictions with the best model\n",
        "predictions_gbt = best_model.transform(test)\n",
        "\n",
        "# Get the best parameters\n",
        "best_maxDepth = best_model.getMaxDepth()\n",
        "best_maxBins = best_model.getMaxBins()\n",
        "best_maxIter = best_model.getMaxIter()\n",
        "print(\"Best maxDepth:\", best_maxDepth)\n",
        "print(\"Best maxBins:\", best_maxBins)\n",
        "print(\"Best maxIter:\", best_maxIter)\n",
        "\n",
        "# Convert PySpark DataFrame to Pandas DataFrame\n",
        "predictions_pd2 = predictions_gbt.select('mode_index', 'prediction').toPandas()\n",
        "\n",
        "# Display classification report\n",
        "report = classification_report(predictions_pd2['mode_index'], predictions_pd2['prediction'])\n",
        "print(\"\\n\",report)"
      ],
      "metadata": {
        "colab": {
          "base_uri": "https://localhost:8080/"
        },
        "outputId": "fd2401a0-1a11-4522-abf0-0912500e05c9",
        "id": "m0j1wp0Iux43"
      },
      "execution_count": null,
      "outputs": [
        {
          "output_type": "stream",
          "name": "stdout",
          "text": [
            "Best maxDepth: 20\n",
            "Best maxBins: 50\n",
            "Best maxIter: 10\n",
            "\n",
            "               precision    recall  f1-score   support\n",
            "\n",
            "         0.0       0.84      0.75      0.79      3652\n",
            "         1.0       0.77      0.86      0.81      3680\n",
            "\n",
            "    accuracy                           0.80      7332\n",
            "   macro avg       0.81      0.80      0.80      7332\n",
            "weighted avg       0.81      0.80      0.80      7332\n",
            "\n"
          ]
        }
      ]
    }
  ]
}